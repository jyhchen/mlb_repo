{
 "cells": [
  {
   "cell_type": "code",
   "execution_count": 1,
   "id": "5dde10fd",
   "metadata": {},
   "outputs": [],
   "source": [
    "import pandas as pd\n",
    "import requests\n",
    "from bs4 import BeautifulSoup"
   ]
  },
  {
   "cell_type": "code",
   "execution_count": 2,
   "id": "349b29c9",
   "metadata": {},
   "outputs": [],
   "source": [
    "url = 'https://www.baseball-reference.com/players/b/bumgama01.shtml'\n",
    "\n",
    "html = requests.get(url)\n",
    "soup = BeautifulSoup(html.content, 'html.parser')\n",
    "tables = soup.find_all('table')\n",
    "pd_tables = pd.read_html(str(tables))\n",
    "basic_stats = pd_tables[0]"
   ]
  },
  {
   "cell_type": "code",
   "execution_count": 3,
   "id": "7b815989",
   "metadata": {},
   "outputs": [],
   "source": [
    "last_season = basic_stats.loc[(basic_stats['Year'] == '2022') & ((basic_stats['Lg'] == 'AL') | (basic_stats['Lg'] == 'NL'))]"
   ]
  },
  {
   "cell_type": "code",
   "execution_count": 24,
   "id": "2217e731",
   "metadata": {},
   "outputs": [
    {
     "data": {
      "text/plain": [
       "18    146.1\n",
       "Name: IP, dtype: float64"
      ]
     },
     "execution_count": 24,
     "metadata": {},
     "output_type": "execute_result"
    }
   ],
   "source": [
    "last_season['IP']"
   ]
  },
  {
   "cell_type": "code",
   "execution_count": 4,
   "id": "43ca96c6",
   "metadata": {},
   "outputs": [],
   "source": [
    "def scrape_bbref(player, player_id, pitcher):\n",
    "    first_initial = player_id[0]\n",
    "    url = f'https://www.baseball-reference.com/players/{first_initial}/{player_id}.shtml'\n",
    "    display(url)\n",
    "    html = requests.get(url)\n",
    "    soup = BeautifulSoup(html.content, 'html.parser')\n",
    "    tables = soup.find_all('table')\n",
    "    pd_tables = pd.read_html(str(tables))\n",
    "    basic_stats = pd_tables[0]\n",
    "    last_season = basic_stats.loc[(basic_stats['Year'] == '2022') & ((basic_stats['Lg'] == 'AL') | (basic_stats['Lg'] == 'NL'))]\n",
    "    \n",
    "    games = last_season['G'].sum()\n",
    "    hits = last_season['H'].sum()\n",
    "    so = last_season['SO'].sum()\n",
    "    bb = last_season['BB'].sum()\n",
    "    if pitcher:\n",
    "        wins = last_season['W'].sum()\n",
    "        losses = last_season['L'].sum()\n",
    "        era = last_season['ERA'].sum()\n",
    "        whip = last_season['WHIP'].sum()\n",
    "        runs = last_season['ER'].sum()\n",
    "        innings = last_season['IP'].sum()\n",
    "        \n",
    "        return {\n",
    "            'player': player,\n",
    "            'games': games,\n",
    "            'hits': hits,\n",
    "            'so': so,\n",
    "            'bb': bb,\n",
    "            'wins': wins,\n",
    "            'losses': losses,\n",
    "            'era': era,\n",
    "            'whip': whip,\n",
    "            'runs': runs,\n",
    "            'ip': innings,\n",
    "        }\n",
    "    else:\n",
    "        pa = last_season['PA'].sum()\n",
    "        ba = last_season['BA'].sum()\n",
    "        obp = last_season['OBP'].sum()\n",
    "        slg = last_season['SLG'].sum()\n",
    "        doubles = last_season['2B'].sum()\n",
    "        triples = last_season['3B'].sum()\n",
    "        hr = last_season['HR'].sum()\n",
    "        #singles = hits - doubles - triples - hr\n",
    "        hbp = last_season['HBP'].sum()\n",
    "        \n",
    "        return {\n",
    "            'player': player,\n",
    "            'games': games,\n",
    "            'hits': hits,\n",
    "            'so': so,\n",
    "            'bb': bb,\n",
    "            'pa': pa,\n",
    "            'ba': ba,\n",
    "            'obp': obp,\n",
    "            'slg': slg,\n",
    "            #'singles': singles,\n",
    "            'doubles': doubles,\n",
    "            'triples': triples,\n",
    "            'hr': hr,\n",
    "            'hbp': hbp,\n",
    "        }\n",
    "        "
   ]
  },
  {
   "cell_type": "code",
   "execution_count": 5,
   "id": "09a7bf32",
   "metadata": {},
   "outputs": [
    {
     "data": {
      "text/plain": [
       "(1, 'bumgama01', True)"
      ]
     },
     "metadata": {},
     "output_type": "display_data"
    },
    {
     "data": {
      "text/plain": [
       "'https://www.baseball-reference.com/players/b/bumgama01.shtml'"
      ]
     },
     "metadata": {},
     "output_type": "display_data"
    },
    {
     "data": {
      "text/plain": [
       "(2, 'galleza01', True)"
      ]
     },
     "metadata": {},
     "output_type": "display_data"
    },
    {
     "data": {
      "text/plain": [
       "'https://www.baseball-reference.com/players/g/galleza01.shtml'"
      ]
     },
     "metadata": {},
     "output_type": "display_data"
    },
    {
     "data": {
      "text/plain": [
       "(3, 'marteke01', False)"
      ]
     },
     "metadata": {},
     "output_type": "display_data"
    },
    {
     "data": {
      "text/plain": [
       "'https://www.baseball-reference.com/players/m/marteke01.shtml'"
      ]
     },
     "metadata": {},
     "output_type": "display_data"
    },
    {
     "data": {
      "text/plain": [
       "(4, 'beerse01', False)"
      ]
     },
     "metadata": {},
     "output_type": "display_data"
    },
    {
     "data": {
      "text/plain": [
       "'https://www.baseball-reference.com/players/b/beerse01.shtml'"
      ]
     },
     "metadata": {},
     "output_type": "display_data"
    },
    {
     "data": {
      "text/plain": [
       "(5, 'friedma01', True)"
      ]
     },
     "metadata": {},
     "output_type": "display_data"
    },
    {
     "data": {
      "text/plain": [
       "'https://www.baseball-reference.com/players/f/friedma01.shtml'"
      ]
     },
     "metadata": {},
     "output_type": "display_data"
    },
    {
     "data": {
      "text/plain": [
       "(6, 'ynoahu01', True)"
      ]
     },
     "metadata": {},
     "output_type": "display_data"
    },
    {
     "data": {
      "text/plain": [
       "'https://www.baseball-reference.com/players/y/ynoahu01.shtml'"
      ]
     },
     "metadata": {},
     "output_type": "display_data"
    },
    {
     "data": {
      "text/plain": [
       "(7, 'heredgu01', False)"
      ]
     },
     "metadata": {},
     "output_type": "display_data"
    },
    {
     "data": {
      "text/plain": [
       "'https://www.baseball-reference.com/players/h/heredgu01.shtml'"
      ]
     },
     "metadata": {},
     "output_type": "display_data"
    },
    {
     "data": {
      "text/plain": [
       "(8, 'duvalad01', False)"
      ]
     },
     "metadata": {},
     "output_type": "display_data"
    },
    {
     "data": {
      "text/plain": [
       "'https://www.baseball-reference.com/players/d/duvalad01.shtml'"
      ]
     },
     "metadata": {},
     "output_type": "display_data"
    },
    {
     "data": {
      "text/plain": [
       "(9, 'wellsal01', True)"
      ]
     },
     "metadata": {},
     "output_type": "display_data"
    },
    {
     "data": {
      "text/plain": [
       "'https://www.baseball-reference.com/players/w/wellsal01.shtml'"
      ]
     },
     "metadata": {},
     "output_type": "display_data"
    },
    {
     "data": {
      "text/plain": [
       "(10, 'tatedi01', True)"
      ]
     },
     "metadata": {},
     "output_type": "display_data"
    },
    {
     "data": {
      "text/plain": [
       "'https://www.baseball-reference.com/players/t/tatedi01.shtml'"
      ]
     },
     "metadata": {},
     "output_type": "display_data"
    },
    {
     "data": {
      "text/plain": [
       "(11, 'mullice01', False)"
      ]
     },
     "metadata": {},
     "output_type": "display_data"
    },
    {
     "data": {
      "text/plain": [
       "'https://www.baseball-reference.com/players/m/mullice01.shtml'"
      ]
     },
     "metadata": {},
     "output_type": "display_data"
    },
    {
     "data": {
      "text/plain": [
       "(12, 'mancitr01', False)"
      ]
     },
     "metadata": {},
     "output_type": "display_data"
    },
    {
     "data": {
      "text/plain": [
       "'https://www.baseball-reference.com/players/m/mancitr01.shtml'"
      ]
     },
     "metadata": {},
     "output_type": "display_data"
    },
    {
     "data": {
      "text/plain": [
       "(13, 'montafr02', True)"
      ]
     },
     "metadata": {},
     "output_type": "display_data"
    },
    {
     "data": {
      "text/plain": [
       "'https://www.baseball-reference.com/players/m/montafr02.shtml'"
      ]
     },
     "metadata": {},
     "output_type": "display_data"
    },
    {
     "data": {
      "text/plain": [
       "(14, 'pukaj01', True)"
      ]
     },
     "metadata": {},
     "output_type": "display_data"
    },
    {
     "data": {
      "text/plain": [
       "'https://www.baseball-reference.com/players/p/pukaj01.shtml'"
      ]
     },
     "metadata": {},
     "output_type": "display_data"
    },
    {
     "data": {
      "text/plain": [
       "(15, 'andruel01', False)"
      ]
     },
     "metadata": {},
     "output_type": "display_data"
    },
    {
     "data": {
      "text/plain": [
       "'https://www.baseball-reference.com/players/a/andruel01.shtml'"
      ]
     },
     "metadata": {},
     "output_type": "display_data"
    },
    {
     "data": {
      "text/plain": [
       "(16, 'murphse01', False)"
      ]
     },
     "metadata": {},
     "output_type": "display_data"
    },
    {
     "data": {
      "text/plain": [
       "'https://www.baseball-reference.com/players/m/murphse01.shtml'"
      ]
     },
     "metadata": {},
     "output_type": "display_data"
    }
   ],
   "source": [
    "player_list= [\n",
    "    (1, 'bumgama01', True), # dbacks\n",
    "    (2, 'galleza01', True),\n",
    "    (3, 'marteke01', False),\n",
    "    (4, 'beerse01', False),\n",
    "    (5, 'friedma01', True), # braves\n",
    "    (6, 'ynoahu01', True),\n",
    "    (7, 'heredgu01', False),\n",
    "    (8, 'duvalad01', False),\n",
    "    (9, 'wellsal01', True), # orioles\n",
    "    (10, 'tatedi01', True),\n",
    "    (11, 'mullice01', False),\n",
    "    (12, 'mancitr01', False),\n",
    "    (13, 'montafr02', True), # a's\n",
    "    (14, 'pukaj01', True),\n",
    "    (15, 'andruel01', False),\n",
    "    (16, 'murphse01', False),\n",
    "]\n",
    "\n",
    "hitters = []\n",
    "pitchers = []\n",
    "\n",
    "for player in player_list:\n",
    "    display(player)\n",
    "    if player[2]:\n",
    "        pitchers.append(scrape_bbref(player[0], player[1], player[2]))\n",
    "    else:\n",
    "        hitters.append(scrape_bbref(player[0], player[1], player[2]))"
   ]
  },
  {
   "cell_type": "code",
   "execution_count": 6,
   "id": "cb070cf0",
   "metadata": {},
   "outputs": [],
   "source": [
    "pd.DataFrame(pitchers).to_csv('pitchers_basic.csv')"
   ]
  },
  {
   "cell_type": "code",
   "execution_count": 8,
   "id": "262022ee",
   "metadata": {},
   "outputs": [],
   "source": [
    "pd.DataFrame(hitters).to_csv('hitters_basic.csv')"
   ]
  }
 ],
 "metadata": {
  "kernelspec": {
   "display_name": "Python 3",
   "language": "python",
   "name": "python3"
  },
  "language_info": {
   "codemirror_mode": {
    "name": "ipython",
    "version": 3
   },
   "file_extension": ".py",
   "mimetype": "text/x-python",
   "name": "python",
   "nbconvert_exporter": "python",
   "pygments_lexer": "ipython3",
   "version": "3.8.8"
  }
 },
 "nbformat": 4,
 "nbformat_minor": 5
}
